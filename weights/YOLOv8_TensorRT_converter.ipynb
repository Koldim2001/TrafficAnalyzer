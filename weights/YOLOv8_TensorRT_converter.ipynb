{
  "cells": [
    {
      "cell_type": "markdown",
      "metadata": {
        "id": "2gXjoyUkl1Wc"
      },
      "source": [
        "# YOLOv8 Installation"
      ]
    },
    {
      "cell_type": "code",
      "execution_count": null,
      "metadata": {
        "id": "OD26qSXamCfk"
      },
      "outputs": [],
      "source": [
        "import ultralytics\n",
        "ultralytics.checks()"
      ]
    },
    {
      "cell_type": "markdown",
      "metadata": {
        "id": "zJBju7PZmHYc"
      },
      "source": [
        "## Download the Model"
      ]
    },
    {
      "cell_type": "code",
      "execution_count": null,
      "metadata": {
        "id": "hHTp3kVsmKNi"
      },
      "outputs": [],
      "source": [
        "# Download YOLOv8 model\n",
        "!wget https://github.com/ultralytics/assets/releases/download/v0.0.0/yolov8m.pt"
      ]
    },
    {
      "cell_type": "markdown",
      "metadata": {
        "id": "9brSTmpEmLTj"
      },
      "source": [
        "# Tensorrt"
      ]
    },
    {
      "cell_type": "code",
      "execution_count": null,
      "metadata": {
        "id": "VUff5dejmNHu"
      },
      "outputs": [],
      "source": [
        "!pip install tensorrt"
      ]
    },
    {
      "cell_type": "code",
      "execution_count": null,
      "metadata": {
        "id": "e0pZtlcCmQkE"
      },
      "outputs": [],
      "source": [
        "!pip install tensorrt_lean"
      ]
    },
    {
      "cell_type": "code",
      "execution_count": null,
      "metadata": {
        "id": "fAhaRj11mS1m"
      },
      "outputs": [],
      "source": [
        "!pip install tensorrt_dispatch"
      ]
    },
    {
      "cell_type": "code",
      "execution_count": null,
      "metadata": {
        "id": "3zR8n35m5Kp6"
      },
      "outputs": [],
      "source": [
        "!pip install onnx onnxsim onnxruntime-gpu"
      ]
    },
    {
      "cell_type": "code",
      "execution_count": null,
      "metadata": {
        "id": "2UxZjv9JmUaY"
      },
      "outputs": [],
      "source": [
        "import tensorrt\n",
        "print(tensorrt.__version__)\n",
        "assert tensorrt.Builder(tensorrt.Logger())"
      ]
    },
    {
      "cell_type": "code",
      "execution_count": null,
      "metadata": {},
      "outputs": [],
      "source": [
        "pip install numpy==1.26.4"
      ]
    },
    {
      "cell_type": "code",
      "execution_count": null,
      "metadata": {},
      "outputs": [],
      "source": [
        "pip install ultralytics==8.2.38"
      ]
    },
    {
      "cell_type": "code",
      "execution_count": null,
      "metadata": {
        "id": "V62zTVoImXKU"
      },
      "outputs": [],
      "source": [
        "# Export YOLOv8 Model to Tensorrt\n",
        "!yolo export model=yolov8m.pt format=engine half=True device=0"
      ]
    },
    {
      "cell_type": "markdown",
      "metadata": {
        "id": "f8ZYA3k2mgz8"
      },
      "source": [
        "## Inference on Image"
      ]
    },
    {
      "cell_type": "code",
      "execution_count": null,
      "metadata": {
        "id": "3DhS9BTRml_z"
      },
      "outputs": [],
      "source": [
        "# Inference Using YOLOv8 Model\n",
        "!yolo detect predict model=yolov8m.pt source=\"https://ultralytics.com/images/bus.jpg\" device=0"
      ]
    },
    {
      "cell_type": "code",
      "execution_count": null,
      "metadata": {
        "id": "-QIl5j75mvyB"
      },
      "outputs": [],
      "source": [
        "# Inference Using YOLOv8 Tensorrt\n",
        "!yolo detect predict model=yolov8m.engine source=\"https://ultralytics.com/images/bus.jpg\" device=0"
      ]
    },
    {
      "cell_type": "code",
      "execution_count": 51,
      "metadata": {},
      "outputs": [
        {
          "name": "stdout",
          "output_type": "stream",
          "text": [
            "Loading yolov8m.engine for TensorRT inference...\n",
            "\n",
            "0: 640x640 4 persons, 1 bus, 36.6ms\n",
            "Speed: 16.2ms preprocess, 36.6ms inference, 2.0ms postprocess per image at shape (1, 3, 640, 640)\n"
          ]
        }
      ],
      "source": [
        "import cv2\n",
        "from ultralytics import YOLO\n",
        "\n",
        "img = cv2.imread(\"bus.jpg\")\n",
        "\n",
        "#model_path = \"yolov8m.pt\"\n",
        "model_path = \"yolov8m.engine\"\n",
        "\n",
        "model = YOLO(model_path, task='detect')\n",
        "classes = model.names\n",
        "    \n",
        "outputs = model.predict(img, imgsz=640, conf=0.5, verbose=True, iou=0.7)\n",
        "\n",
        "detected_conf = outputs[0].boxes.conf.cpu().tolist()\n",
        "detected_cls = outputs[0].boxes.cls.cpu().int().tolist()\n",
        "detected_cls = [classes[i] for i in detected_cls]\n",
        "detected_xyxy = outputs[0].boxes.xyxy.cpu().int().tolist()"
      ]
    }
  ],
  "metadata": {
    "accelerator": "GPU",
    "colab": {
      "gpuType": "T4",
      "provenance": []
    },
    "kernelspec": {
      "display_name": "Python 3",
      "name": "python3"
    },
    "language_info": {
      "codemirror_mode": {
        "name": "ipython",
        "version": 3
      },
      "file_extension": ".py",
      "mimetype": "text/x-python",
      "name": "python",
      "nbconvert_exporter": "python",
      "pygments_lexer": "ipython3",
      "version": "3.11.5"
    }
  },
  "nbformat": 4,
  "nbformat_minor": 0
}
